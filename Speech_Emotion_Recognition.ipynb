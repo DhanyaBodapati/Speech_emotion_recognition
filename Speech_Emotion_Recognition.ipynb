{
  "nbformat": 4,
  "nbformat_minor": 0,
  "metadata": {
    "colab": {
      "name": "Speech Emotion Recognition.ipynb",
      "provenance": [],
      "include_colab_link": true
    },
    "kernelspec": {
      "name": "python3",
      "display_name": "Python 3"
    },
    "language_info": {
      "name": "python"
    }
  },
  "cells": [
    {
      "cell_type": "markdown",
      "metadata": {
        "id": "view-in-github",
        "colab_type": "text"
      },
      "source": [
        "<a href=\"https://colab.research.google.com/github/DhanyaBodapati/dhanya_bodapati/blob/main/Speech_Emotion_Recognition.ipynb\" target=\"_parent\"><img src=\"https://colab.research.google.com/assets/colab-badge.svg\" alt=\"Open In Colab\"/></a>"
      ]
    },
    {
      "cell_type": "markdown",
      "source": [
        "Speech Emotion Recognition\n",
        "Dhanya Bodapati\n",
        "19251A0571\n",
        "3rd CSE-B\n",
        "GNITS"
      ],
      "metadata": {
        "id": "EaAi0B0jEG8R"
      }
    },
    {
      "cell_type": "code",
      "execution_count": null,
      "metadata": {
        "id": "uV-_xLbQfGX8"
      },
      "outputs": [],
      "source": [
        "import librosa as lb\n",
        "import soundfile as sf\n",
        "import numpy as np\n",
        "import os, glob, pickle\n",
        " \n",
        "from sklearn.model_selection import train_test_split\n",
        "from sklearn.neural_network import MLPClassifier\n",
        "from sklearn.metrics import accuracy_score"
      ]
    },
    {
      "cell_type": "code",
      "source": [
        "emotion_labels = {\n",
        "  '01':'neutral',\n",
        "  '02':'calm',\n",
        "  '03':'happy',\n",
        "  '04':'sad',\n",
        "  '05':'angry',\n",
        "  '06':'fearful',\n",
        "  '07':'disgust',\n",
        "  '08':'surprised'\n",
        "}\n",
        " \n",
        "focused_emotion_labels = ['happy', 'sad', 'angry']"
      ],
      "metadata": {
        "id": "VD1-nRqxfRpc"
      },
      "execution_count": null,
      "outputs": []
    },
    {
      "cell_type": "code",
      "source": [
        "def audio_features(file_title, mfcc, chroma, mel):\n",
        "    with sf.SoundFile(file_title) as audio_recording:\n",
        "        audio = audio_recording.read(dtype=\"float32\")\n",
        "        sample_rate = audio_recording.samplerate\n",
        "        if chroma:\n",
        "            stft=np.abs(lb.stft(audio))\n",
        "            result=np.array([])\n",
        "        if mfcc:\n",
        "            mfccs=np.mean(lb.feature.mfcc(y=audio, sr=sample_rate, n_mfcc=40).T, axis=0)\n",
        "            result=np.hstack((result, mfccs))\n",
        "        if chroma:\n",
        "            chroma=np.mean(lb.feature.chroma_stft(S=stft, sr=sample_rate).T,axis=0)\n",
        "            result=np.hstack((result, chroma))\n",
        "        if mel:\n",
        "            mel=np.mean(lb.feature.melspectrogram(audio, sr=sample_rate).T,axis=0)\n",
        "            result=np.hstack((result, mel))\n",
        "        return result"
      ],
      "metadata": {
        "id": "4ZHkEkAwfUWd"
      },
      "execution_count": null,
      "outputs": []
    },
    {
      "cell_type": "code",
      "source": [
        "def loading_audio_data():\n",
        "    x = []\n",
        "    y = []\n",
        "    for file in glob.glob(r\"drive//MyDrive//dataset//Actor_*//*.wav\"):\n",
        "        file_path=os.path.basename(file)\n",
        "        emotion = emotion_labels[file_path.split(\"-\")[2]]\n",
        "        if emotion not in focused_emotion_labels:\n",
        "             continue\n",
        "        feature = audio_features(file, mfcc=True, chroma=True, mel=True)\n",
        "        x.append(feature)\n",
        "        y.append(emotion)\n",
        "\n",
        "    final_dataset = train_test_split(np.array(x), y, test_size=0.1, random_state=9)\n",
        "    return final_dataset"
      ],
      "metadata": {
        "id": "TxU5aABnfdMA"
      },
      "execution_count": null,
      "outputs": []
    },
    {
      "cell_type": "code",
      "source": [
        "from google.colab import drive\n",
        "drive.mount('/content/drive')"
      ],
      "metadata": {
        "colab": {
          "base_uri": "https://localhost:8080/"
        },
        "id": "ySapvZIIQn42",
        "outputId": "afeb0584-fd11-471d-e84b-07b7955a3d59"
      },
      "execution_count": null,
      "outputs": [
        {
          "output_type": "stream",
          "name": "stdout",
          "text": [
            "Mounted at /content/drive\n"
          ]
        }
      ]
    },
    {
      "cell_type": "code",
      "source": [
        "X_train, X_test, y_train, y_test = loading_audio_data()"
      ],
      "metadata": {
        "id": "7vgWKKWWgSQ8"
      },
      "execution_count": null,
      "outputs": []
    },
    {
      "cell_type": "code",
      "source": [
        "model = MLPClassifier(hidden_layer_sizes=(200,), learning_rate='adaptive', max_iter=400)\n"
      ],
      "metadata": {
        "id": "dBFMZyr-hn1c"
      },
      "execution_count": null,
      "outputs": []
    },
    {
      "cell_type": "code",
      "source": [
        "model.fit(X_train, y_train)"
      ],
      "metadata": {
        "colab": {
          "base_uri": "https://localhost:8080/"
        },
        "id": "J9QkXAqThsul",
        "outputId": "fa3d889d-1628-42a4-e385-8eba4198e66a"
      },
      "execution_count": null,
      "outputs": [
        {
          "output_type": "execute_result",
          "data": {
            "text/plain": [
              "MLPClassifier(hidden_layer_sizes=(200,), learning_rate='adaptive', max_iter=400)"
            ]
          },
          "metadata": {},
          "execution_count": 23
        }
      ]
    },
    {
      "cell_type": "code",
      "source": [
        "y_pred = model.predict(X_test)\n",
        "accuracy = accuracy_score(y_true=y_test, y_pred=y_pred)\n",
        "print(\"Accuracy of the Recognizer is: {:.1f}%\".format(accuracy*100))\n"
      ],
      "metadata": {
        "colab": {
          "base_uri": "https://localhost:8080/"
        },
        "id": "BJssRj-8h0sh",
        "outputId": "928f9947-1566-40cc-b87d-ee58441fef0c"
      },
      "execution_count": null,
      "outputs": [
        {
          "output_type": "stream",
          "name": "stdout",
          "text": [
            "Accuracy of the Recognizer is: 60.3%\n"
          ]
        }
      ]
    },
    {
      "cell_type": "code",
      "source": [
        ""
      ],
      "metadata": {
        "id": "3-UggjExVF7E"
      },
      "execution_count": null,
      "outputs": []
    }
  ]
}